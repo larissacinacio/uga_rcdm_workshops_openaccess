{
 "cells": [
  {
   "cell_type": "markdown",
   "id": "02fceae2-9617-49e0-b1d7-104e5e7e6ce5",
   "metadata": {},
   "source": [
    "**Python for Data Visualization**\n",
    "\n",
    "Using Jupyter Notebooks for Reproducible Research\n",
    "  "
   ]
  },
  {
   "cell_type": "code",
   "execution_count": null,
   "id": "05a7f584-aac3-4797-a30b-a51f7e9ee51f",
   "metadata": {},
   "outputs": [],
   "source": [
    "# Step 1: Import our Libraries\n",
    "\n"
   ]
  },
  {
   "cell_type": "code",
   "execution_count": null,
   "id": "e16d3bac",
   "metadata": {},
   "outputs": [],
   "source": [
    "\n",
    "# We use this to have graph displayed in a cell, just like the other results"
   ]
  },
  {
   "cell_type": "code",
   "execution_count": null,
   "id": "3f1fe667-b733-471c-8cc9-4cb78ca7230a",
   "metadata": {},
   "outputs": [],
   "source": [
    "# Step 2: Load our Data\n"
   ]
  },
  {
   "cell_type": "code",
   "execution_count": null,
   "id": "b69738a4-2546-40f2-be8f-8d87abe2cdb0",
   "metadata": {},
   "outputs": [],
   "source": [
    "# Step 3: Do you really know your dataset?\n"
   ]
  },
  {
   "cell_type": "code",
   "execution_count": null,
   "id": "add076a0",
   "metadata": {},
   "outputs": [],
   "source": []
  },
  {
   "cell_type": "code",
   "execution_count": null,
   "id": "5f3924b6-ca89-4c71-a18e-4e7ba840d971",
   "metadata": {},
   "outputs": [],
   "source": [
    "# Step 4:\n",
    "\n",
    "# Let's do some Work, work, work, work, work, work..."
   ]
  },
  {
   "cell_type": "code",
   "execution_count": null,
   "id": "15a135ce-99a9-4afe-95f3-85d758b2e750",
   "metadata": {},
   "outputs": [],
   "source": [
    "# Plot 1: Histogram\n"
   ]
  },
  {
   "cell_type": "code",
   "execution_count": null,
   "id": "43242015-6532-498b-888f-3861cc264ed9",
   "metadata": {},
   "outputs": [],
   "source": [
    "# Plot 2: Scatter Plot\n"
   ]
  },
  {
   "cell_type": "code",
   "execution_count": null,
   "id": "c924fcbf",
   "metadata": {},
   "outputs": [],
   "source": [
    "# Maybe we can show ourselves a bit...\n"
   ]
  },
  {
   "cell_type": "code",
   "execution_count": null,
   "id": "885d91ad",
   "metadata": {},
   "outputs": [],
   "source": [
    "# And maybe, you can play around\n"
   ]
  },
  {
   "cell_type": "code",
   "execution_count": null,
   "id": "eea4fb53-2857-45ca-b97a-412199ee4aa3",
   "metadata": {},
   "outputs": [],
   "source": [
    "# Plot 3: Box Plot\n",
    "\n",
    "#I am using base features because the syntax is simpler"
   ]
  },
  {
   "cell_type": "code",
   "execution_count": null,
   "id": "5440772a-4a01-4a21-bef2-0ff3ca53a93c",
   "metadata": {},
   "outputs": [],
   "source": [
    "# Plot Let's-make-it-better-with-Seaborn: Box Plot\n"
   ]
  },
  {
   "cell_type": "code",
   "execution_count": null,
   "id": "95353eae",
   "metadata": {},
   "outputs": [],
   "source": []
  },
  {
   "cell_type": "code",
   "execution_count": null,
   "id": "651bf8c6-3c32-4fbf-a57b-416964c71276",
   "metadata": {},
   "outputs": [],
   "source": [
    "# Plot-we-can-do-more-with-a-linear-model\n"
   ]
  },
  {
   "cell_type": "code",
   "execution_count": null,
   "id": "0b556abd-7d44-45e4-9e9f-fb021a04efd0",
   "metadata": {},
   "outputs": [],
   "source": [
    "# Plot-that-will-make-your-stats-professor-smile\n"
   ]
  },
  {
   "cell_type": "code",
   "execution_count": null,
   "id": "658d8213",
   "metadata": {},
   "outputs": [],
   "source": [
    "# On Wednesdays we wear pink\n",
    "\n"
   ]
  },
  {
   "cell_type": "markdown",
   "id": "346bdf91-3f3d-4b06-857c-824cc630b0ed",
   "metadata": {},
   "source": [
    "**Exercise**\n",
    "\n",
    "Create a bar chart to visualize the daily temperatures of a week."
   ]
  },
  {
   "cell_type": "code",
   "execution_count": null,
   "id": "596651bc-6096-443f-b0dc-b80a4edab88f",
   "metadata": {},
   "outputs": [],
   "source": [
    "# Here is your data. Run this code, but do not alter anything.\n",
    "days = ['Monday', 'Tuesday', 'Wednesday', 'Thursday', 'Friday', 'Saturday', 'Sunday']\n",
    "temperatures = [22, 24, 19, 23, 25, 27, 26]"
   ]
  },
  {
   "cell_type": "code",
   "execution_count": null,
   "id": "a70b2779-c95c-46ad-8585-4239a3655696",
   "metadata": {},
   "outputs": [],
   "source": [
    "# Step 1: Import the  libraries\n"
   ]
  },
  {
   "cell_type": "code",
   "execution_count": null,
   "id": "1f8607d7-db6f-4eeb-8c4e-6ed6a8c51f5c",
   "metadata": {},
   "outputs": [],
   "source": [
    "# Step 2: Create the bar chart (and don't forget to define the size of the figure)\n",
    "\n"
   ]
  },
  {
   "cell_type": "code",
   "execution_count": null,
   "id": "091e6844-4772-41c2-95ea-aebe83146e0f",
   "metadata": {},
   "outputs": [],
   "source": [
    "# Step 3: Add labels, change the colors, and give your graph a title\n",
    "\n"
   ]
  },
  {
   "cell_type": "code",
   "execution_count": null,
   "id": "347aa0a3-4186-47fe-b1b7-e32b407ef4b0",
   "metadata": {},
   "outputs": [],
   "source": [
    "# Step 4: Display your plot\n",
    "\n"
   ]
  },
  {
   "cell_type": "markdown",
   "id": "0849fe2f-4cf2-4f78-b1f2-7b12738d68a1",
   "metadata": {},
   "source": [
    "# Final Step: Set up an appointment with the RCDM Python Team to get some feedback or help with your code!\n",
    "\n",
    "https://calendar.libs.uga.edu/appointments/rcdm"
   ]
  },
  {
   "cell_type": "code",
   "execution_count": null,
   "id": "e1e418ee-4bec-4c15-b907-1afddde358a7",
   "metadata": {},
   "outputs": [],
   "source": [
    "# Solution\n",
    "\n",
    "#1 Import the libraries\n",
    "import matplotlib.pyplot as plt\n",
    "\n",
    "#2 Prepare the data\n",
    "days = ['Monday', 'Tuesday', 'Wednesday', 'Thursday', 'Friday', 'Saturday', 'Sunday']\n",
    "temperatures = [22, 24, 19, 23, 25, 27, 26]\n",
    "\n",
    "#3 Create the bar chart\n",
    "plt.figure(figsize=(10, 5))\n",
    "plt.bar(days, temperatures, color='skyblue')\n",
    "\n",
    "#4 Add titles and labels\n",
    "plt.title('Daily Temperatures')\n",
    "plt.xlabel('Day')\n",
    "plt.ylabel('Temperature (°C)')\n",
    "\n",
    "#5 Display the chart\n",
    "plt.show()\n"
   ]
  },
  {
   "cell_type": "markdown",
   "id": "b38b8a1f-50e1-4a8b-aa45-eef96aba935a",
   "metadata": {},
   "source": [
    "**Happy Coding!**"
   ]
  },
  {
   "cell_type": "code",
   "execution_count": null,
   "id": "68310a73-3f7f-45a5-8b24-dc85b1e10645",
   "metadata": {},
   "outputs": [],
   "source": []
  }
 ],
 "metadata": {
  "kernelspec": {
   "display_name": "Python 3 (ipykernel)",
   "language": "python",
   "name": "python3"
  },
  "language_info": {
   "codemirror_mode": {
    "name": "ipython",
    "version": 3
   },
   "file_extension": ".py",
   "mimetype": "text/x-python",
   "name": "python",
   "nbconvert_exporter": "python",
   "pygments_lexer": "ipython3",
   "version": "3.11.7"
  }
 },
 "nbformat": 4,
 "nbformat_minor": 5
}
